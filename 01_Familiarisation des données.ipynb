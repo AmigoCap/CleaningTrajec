{
 "cells": [
  {
   "cell_type": "markdown",
   "metadata": {},
   "source": [
    "# Quelques traitements de base sur le jeu de données\n",
    "\n",
    "##  Import des librairies\n",
    "\n",
    "Nous utiliserons principalement `pandas`, afin de stocker nos données de manière efficace, et `matplotlib`, qui nous permettra de dessiner nos trajectoires."
   ]
  },
  {
   "cell_type": "code",
   "execution_count": 1,
   "metadata": {},
   "outputs": [],
   "source": [
    "import matplotlib.pyplot as plt\n",
    "import pandas as pd\n",
    "import re\n",
    "from IPython.display import display, HTML"
   ]
  },
  {
   "cell_type": "raw",
   "metadata": {},
   "source": [
    "#Trajectory\tTime\tX\tY\tZ\n",
    "1\t00:00:00\t-402\t-131\t20\n",
    "1\t00:00:01\t-403\t-131\t20\n",
    "1\t00:00:02\t-404\t-131\t20\n",
    "...\n",
    "2022\t08:50:37.490\t101.83\t121.38\t-2\n",
    "2023\t07:34:37.930\t-1.45\t245.84\t43\n",
    "2023\t07:35:54.561\t-0.02\t240.48\t54\n",
    "2023\t07:38:37.949\t3.56\t229.11\t70\n",
    "2023\t07:38:55.439\t3.95\t227.86\t74\n",
    "..."
   ]
  },
  {
   "cell_type": "markdown",
   "metadata": {},
   "source": [
    "## Stockage des données dans une Dataframe\n",
    "Voici à quoi ressemble le jeu de données en notre possession.\n",
    "Nous nous interesserons qu'aux colonnes `Trajectory`, `X` et `Y`\n",
    "Importons une partie de ces données (les 100 premières trajectoires) vers une Dataframe (pandas) afin de faciliter par la suite la selection des données"
   ]
  },
  {
   "cell_type": "code",
   "execution_count": 2,
   "metadata": {},
   "outputs": [
    {
     "data": {
      "text/html": [
       "<div>\n",
       "<style scoped>\n",
       "    .dataframe tbody tr th:only-of-type {\n",
       "        vertical-align: middle;\n",
       "    }\n",
       "\n",
       "    .dataframe tbody tr th {\n",
       "        vertical-align: top;\n",
       "    }\n",
       "\n",
       "    .dataframe thead th {\n",
       "        text-align: right;\n",
       "    }\n",
       "</style>\n",
       "<table border=\"1\" class=\"dataframe\">\n",
       "  <thead>\n",
       "    <tr style=\"text-align: right;\">\n",
       "      <th></th>\n",
       "      <th>X</th>\n",
       "      <th>Y</th>\n",
       "      <th>id</th>\n",
       "    </tr>\n",
       "  </thead>\n",
       "  <tbody>\n",
       "    <tr>\n",
       "      <th>0</th>\n",
       "      <td>-402.0</td>\n",
       "      <td>-131.0</td>\n",
       "      <td>1</td>\n",
       "    </tr>\n",
       "    <tr>\n",
       "      <th>1</th>\n",
       "      <td>-403.0</td>\n",
       "      <td>-131.0</td>\n",
       "      <td>1</td>\n",
       "    </tr>\n",
       "    <tr>\n",
       "      <th>2</th>\n",
       "      <td>-404.0</td>\n",
       "      <td>-131.0</td>\n",
       "      <td>1</td>\n",
       "    </tr>\n",
       "    <tr>\n",
       "      <th>3</th>\n",
       "      <td>-405.0</td>\n",
       "      <td>-131.0</td>\n",
       "      <td>1</td>\n",
       "    </tr>\n",
       "    <tr>\n",
       "      <th>4</th>\n",
       "      <td>-405.0</td>\n",
       "      <td>-130.0</td>\n",
       "      <td>1</td>\n",
       "    </tr>\n",
       "  </tbody>\n",
       "</table>\n",
       "</div>"
      ],
      "text/plain": [
       "       X      Y  id\n",
       "0 -402.0 -131.0   1\n",
       "1 -403.0 -131.0   1\n",
       "2 -404.0 -131.0   1\n",
       "3 -405.0 -131.0   1\n",
       "4 -405.0 -130.0   1"
      ]
     },
     "execution_count": 2,
     "metadata": {},
     "output_type": "execute_result"
    }
   ],
   "source": [
    "file = open(\"Data/Example.txt\", \"r\")\n",
    "file.readline() # on ignore la première ligne\n",
    "X, Y, id_traj_from_file = [], [], []\n",
    "for line in file:\n",
    "    data = re.split('\\s', line)\n",
    "    id_traj_from_file.append(int(data[0]))\n",
    "    X.append(float(data[2]))\n",
    "    Y.append(float(data[3]))\n",
    "df = pd.DataFrame(\n",
    "    {\n",
    "        \"id\": id_traj_from_file,\n",
    "        \"X\": X,\n",
    "        \"Y\": Y\n",
    "    }\n",
    ")\n",
    "df.head()"
   ]
  },
  {
   "cell_type": "markdown",
   "metadata": {},
   "source": [
    "## Traitements sur des Dataframes\n",
    "L'un des principaux avantages de Pandas est la possibilité de selectionner certaines données en fonctions de critères voulues (e.g. numéro de ligne, sélection de colonnes...)"
   ]
  },
  {
   "cell_type": "code",
   "execution_count": 3,
   "metadata": {},
   "outputs": [
    {
     "data": {
      "text/plain": [
       "0   -402.0\n",
       "1   -403.0\n",
       "2   -404.0\n",
       "3   -405.0\n",
       "4   -405.0\n",
       "Name: X, dtype: float64"
      ]
     },
     "execution_count": 3,
     "metadata": {},
     "output_type": "execute_result"
    }
   ],
   "source": [
    "df['X'].head()"
   ]
  },
  {
   "cell_type": "code",
   "execution_count": 4,
   "metadata": {},
   "outputs": [
    {
     "data": {
      "text/html": [
       "<div>\n",
       "<style scoped>\n",
       "    .dataframe tbody tr th:only-of-type {\n",
       "        vertical-align: middle;\n",
       "    }\n",
       "\n",
       "    .dataframe tbody tr th {\n",
       "        vertical-align: top;\n",
       "    }\n",
       "\n",
       "    .dataframe thead th {\n",
       "        text-align: right;\n",
       "    }\n",
       "</style>\n",
       "<table border=\"1\" class=\"dataframe\">\n",
       "  <thead>\n",
       "    <tr style=\"text-align: right;\">\n",
       "      <th></th>\n",
       "      <th>X</th>\n",
       "      <th>Y</th>\n",
       "    </tr>\n",
       "  </thead>\n",
       "  <tbody>\n",
       "    <tr>\n",
       "      <th>0</th>\n",
       "      <td>-402.0</td>\n",
       "      <td>-131.0</td>\n",
       "    </tr>\n",
       "    <tr>\n",
       "      <th>1</th>\n",
       "      <td>-403.0</td>\n",
       "      <td>-131.0</td>\n",
       "    </tr>\n",
       "    <tr>\n",
       "      <th>2</th>\n",
       "      <td>-404.0</td>\n",
       "      <td>-131.0</td>\n",
       "    </tr>\n",
       "    <tr>\n",
       "      <th>3</th>\n",
       "      <td>-405.0</td>\n",
       "      <td>-131.0</td>\n",
       "    </tr>\n",
       "    <tr>\n",
       "      <th>4</th>\n",
       "      <td>-405.0</td>\n",
       "      <td>-130.0</td>\n",
       "    </tr>\n",
       "  </tbody>\n",
       "</table>\n",
       "</div>"
      ],
      "text/plain": [
       "       X      Y\n",
       "0 -402.0 -131.0\n",
       "1 -403.0 -131.0\n",
       "2 -404.0 -131.0\n",
       "3 -405.0 -131.0\n",
       "4 -405.0 -130.0"
      ]
     },
     "execution_count": 4,
     "metadata": {},
     "output_type": "execute_result"
    }
   ],
   "source": [
    "df_1 = df.loc[df['id'] == 1] # id_trajectoire = 1\n",
    "df_1[['X', 'Y']].head() # colonnes X et Y"
   ]
  },
  {
   "cell_type": "markdown",
   "metadata": {},
   "source": [
    "## Affichons la première trajectoire sur plot"
   ]
  },
  {
   "cell_type": "code",
   "execution_count": 5,
   "metadata": {},
   "outputs": [],
   "source": [
    "def show(df):\n",
    "    plt.plot(df['X'], df['Y'], 'r')\n",
    "\n",
    "    min_x = min(df['X'])\n",
    "    max_x = max(df['X'])\n",
    "\n",
    "    min_y = min(df['Y'])\n",
    "    max_y = max(df['Y'])\n",
    "    plt.axis([min_x - 20, max_x + 20, min_y - 20, max_y + 20])\n",
    "    return plt"
   ]
  },
  {
   "cell_type": "code",
   "execution_count": 6,
   "metadata": {},
   "outputs": [
    {
     "data": {
      "image/png": "[encoded data removed]",
      "text/plain": [
       "<matplotlib.figure.Figure at 0x7f4721ef6510>"
      ]
     },
     "metadata": {},
     "output_type": "display_data"
    }
   ],
   "source": [
    "plt = show(df_1)"
   ]
  },
  {
   "cell_type": "markdown",
   "metadata": {},
   "source": [
    "## Etudes des trajectoires"
   ]
  },
  {
   "cell_type": "markdown",
   "metadata": {},
   "source": [
    "Il existe deux types de trajectoires dans le jeu de données : le premier est une trajectoire de référence (généralement une ligne droite, légerement incurvée), et le deuxième une contenant des erreurs/bruits.\n",
    "\n",
    "### Une tranjectoire sans erreur..."
   ]
  },
  {
   "cell_type": "code",
   "execution_count": 7,
   "metadata": {},
   "outputs": [
    {
     "data": {
      "image/png": "[encoded data removed]",
      "text/plain": [
       "<matplotlib.figure.Figure at 0x7f4721e68690>"
      ]
     },
     "metadata": {},
     "output_type": "display_data"
    }
   ],
   "source": [
    "df_ref = df.loc[df['id'] == 32]\n",
    "plt = show(df_ref)"
   ]
  },
  {
   "cell_type": "markdown",
   "metadata": {},
   "source": [
    "### ... et une autre avec"
   ]
  },
  {
   "cell_type": "code",
   "execution_count": 8,
   "metadata": {},
   "outputs": [
    {
     "data": {
      "image/png": "[encoded data removed]",
      "text/plain": [
       "<matplotlib.figure.Figure at 0x7f471fc222d0>"
      ]
     },
     "metadata": {},
     "output_type": "display_data"
    }
   ],
   "source": [
    "df_err = df.loc[df['id'] == 30]\n",
    "plt = show(df_err)"
   ]
  },
  {
   "cell_type": "markdown",
   "metadata": {},
   "source": [
    "##### Conclusion\n",
    "Notre but est donc de trouber un moyen de reconnaître de manière efficace ces erreurs, tout en essayant de les corriger et de les nettoyer."
   ]
  }
 ],
 "metadata": {
  "kernelspec": {
   "display_name": "Python 3",
   "language": "python",
   "name": "python3"
  },
  "language_info": {
   "codemirror_mode": {
    "name": "ipython",
    "version": 3
   },
   "file_extension": ".py",
   "mimetype": "text/x-python",
   "name": "python",
   "nbconvert_exporter": "python",
   "pygments_lexer": "ipython3",
   "version": "3.6.4"
  }
 },
 "nbformat": 4,
 "nbformat_minor": 2
}
